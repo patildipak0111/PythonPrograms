{
 "cells": [
  {
   "cell_type": "markdown",
   "metadata": {},
   "source": [
    "### Counting Valleys problem"
   ]
  },
  {
   "cell_type": "code",
   "execution_count": null,
   "metadata": {},
   "outputs": [],
   "source": [
    "steps = 12\n",
    "p = 'DDUUDDUDUUUD'\n",
    "\n",
    "sea = 0\n",
    "valley = 0\n",
    "for i in range(len(p)):\n",
    "    if p[i] == 'D':\n",
    "        sea -= 1\n",
    "    if p[i] == 'U':\n",
    "        sea += 1\n",
    "        \n",
    "    if sea == 0 and p[i] == 'U':\n",
    "        valley += 1;    \n",
    "\n",
    "print(valley)"
   ]
  },
  {
   "cell_type": "markdown",
   "metadata": {},
   "source": [
    "# Compare trilpplets and provide points to Alice and bob - depending on who has higher number, \n",
    "### if there is tie then no points awarded"
   ]
  },
  {
   "cell_type": "code",
   "execution_count": null,
   "metadata": {},
   "outputs": [],
   "source": [
    "a = [17,28,30]\n",
    "b = [99,16,8]\n",
    "lst = []\n",
    "\n",
    "alice = 0\n",
    "bob = 0\n",
    "\n",
    "for i in range(len(a)):\n",
    "    if a[i] > b[i]:\n",
    "        alice += 1\n",
    "    elif a[i] < b[i]:\n",
    "        bob += 1\n",
    "        \n",
    "lst.append(alice)        \n",
    "lst.append(bob)      \n",
    "print(lst)   "
   ]
  },
  {
   "cell_type": "markdown",
   "metadata": {},
   "source": [
    "### Given a square matrix, calculate the absolute difference between the sums of its diagonals\n",
    "1 2 3\n",
    "4 5 6\n",
    "9 8 9  \n",
    "The left-to-right diagonal 1+5+9=15 . The right to left diagonal 3+5+9=17 . Their absolute difference is 15-17 = abs(2)"
   ]
  },
  {
   "cell_type": "code",
   "execution_count": null,
   "metadata": {},
   "outputs": [],
   "source": [
    "\n",
    "def diagonalDifference(arr):\n",
    "    # Write your code here\n",
    "    n = len(arr)\n",
    "    d1 = sum([arr[x][x] for x in range(n)]) \n",
    "    d2 = sum([arr[x][n-1-x] for x in range(n)])\n",
    "    return(abs(d1-d2))\n",
    "if __name__ == '__main__':\n",
    "    arr = [[1,2,3],[4,5,6],[9,8,9]]\n",
    "    result = diagonalDifference(arr)\n",
    "    print(result)"
   ]
  },
  {
   "cell_type": "code",
   "execution_count": null,
   "metadata": {},
   "outputs": [],
   "source": [
    "#same prolem in diff way\n",
    "arr = [[1,2,3],[4,5,6],[9,8,9]]\n",
    "n = len(arr)\n",
    "s = 0\n",
    "s1 = 0\n",
    "\n",
    "for x in range(n):\n",
    "    s = s +sum([arr[x][x]])\n",
    "    s1 = s1 + sum([arr[x][n-1-x]])\n",
    "    \n",
    "print(s)\n",
    "print(s1)"
   ]
  },
  {
   "cell_type": "markdown",
   "metadata": {},
   "source": [
    "### How many candles a kid can blow - provided a kid can nly blow tallest candle"
   ]
  },
  {
   "cell_type": "code",
   "execution_count": 12,
   "metadata": {},
   "outputs": [
    {
     "name": "stdout",
     "output_type": "stream",
     "text": [
      "2\n"
     ]
    }
   ],
   "source": [
    "n = 10\n",
    "candles = [44,53,31,27,77,60,66,77,26,36]\n",
    "mx = max(candles)\n",
    "cnt = 0\n",
    "for i in range(n):\n",
    "    if candles[i] == mx:\n",
    "        cnt += 1\n",
    "print(cnt)        "
   ]
  },
  {
   "cell_type": "markdown",
   "metadata": {},
   "source": [
    "### How many times 'a' will apeear in the string of n characters. provided string s is repeated for n length "
   ]
  },
  {
   "cell_type": "code",
   "execution_count": 5,
   "metadata": {},
   "outputs": [
    {
     "name": "stdout",
     "output_type": "stream",
     "text": [
      "2\n",
      "3\n",
      "1\n",
      "a\n",
      "aba\n",
      "7\n"
     ]
    }
   ],
   "source": [
    "s = 'aba'\n",
    "n = 10\n",
    "print(s.count(\"a\"))\n",
    "print((n // len(s)))\n",
    "print(n % len(s))\n",
    "print(s[:n % len(s)])\n",
    "print(s[:n])\n",
    "print(s.count(\"a\") * (n // len(s)) + s[:n % len(s)].count(\"a\"))"
   ]
  },
  {
   "cell_type": "markdown",
   "metadata": {},
   "source": [
    "### Calculate hour glass sum in 6X6 matrics arry and find the hour glass with the largest sum\n",
    "hint - find the sum of very first hour glass and put it into 2 loops of 4X4"
   ]
  },
  {
   "cell_type": "code",
   "execution_count": null,
   "metadata": {},
   "outputs": [],
   "source": [
    "arr = [[1, 1, 1, 0, 0, 0], [0, 1, 0, 0, 0, 0], [1, 1, 1, 0, 0, 0], [0, 0, 2, 4, 4, 0], [0, 0, 0, 2, 0, 0], [0, 0, 1, 2, 4, 0]]\n",
    "s2 = []\n",
    "for i in range(len(arr)-2):\n",
    "    for j in range(len(arr)-2):\n",
    "        s2.append(arr[i][j]+arr[i][j+1]+arr[i][j+2]+\n",
    "                       arr[i+1][j+1]+\n",
    "                  arr[i+2][j]+arr[i+2][j+1]+\n",
    "                   arr[i+2][j+2])\n",
    "        print(s2)\n"
   ]
  },
  {
   "cell_type": "markdown",
   "metadata": {},
   "source": [
    "### Given an array of integers, determine the minimum number of elements to delete to leave only elements of equal value.\n",
    "Sample Input\n",
    "\n",
    "STDIN       Function\n",
    "-----       --------\n",
    "5           arr[] size n = 5\n",
    "3 3 2 1 3   arr = [3, 3, 2, 1, 3]\n",
    "Sample Output\n",
    "\n",
    "2   "
   ]
  },
  {
   "cell_type": "code",
   "execution_count": 16,
   "metadata": {},
   "outputs": [
    {
     "name": "stdout",
     "output_type": "stream",
     "text": [
      "3\n",
      "3\n",
      "{1: 1, 2: 1, 3: 3, 5: 1}\n",
      "3\n"
     ]
    }
   ],
   "source": [
    "arr = [5,3, 3, 2, 1, 3]\n",
    "dict = {}\n",
    "lst = []\n",
    "for i in set(arr):\n",
    "    dict[i] = arr.count(i)\n",
    "\n",
    "e =max(dict, key = dict.get)  # returns key of the max value \n",
    "print(e)\n",
    "print(dict)\n",
    "for j in arr:\n",
    "    if e == j:\n",
    "        lst.append(j)\n",
    "\n",
    "print(len(arr) - len(lst))"
   ]
  },
  {
   "cell_type": "code",
   "execution_count": 23,
   "metadata": {},
   "outputs": [
    {
     "name": "stdout",
     "output_type": "stream",
     "text": [
      "Counter({3: 3, 5: 1, 2: 1, 1: 1})\n"
     ]
    }
   ],
   "source": [
    "arr = [5, 3, 3, 2, 1, 3]\n",
    "\n",
    "import collections\n",
    "print(collections.Counter(arr))"
   ]
  },
  {
   "cell_type": "code",
   "execution_count": 8,
   "metadata": {},
   "outputs": [
    {
     "name": "stdout",
     "output_type": "stream",
     "text": [
      "3\n"
     ]
    }
   ],
   "source": [
    "#Similar as above bot using collection library\n",
    "\n",
    "arr = [5, 3, 3, 2, 1, 3]\n",
    "\n",
    "import collections\n",
    "x = len(arr) - max(collections.Counter(arr).values())\n",
    "print(x)"
   ]
  },
  {
   "cell_type": "markdown",
   "metadata": {},
   "source": [
    "### Rotate Array letters by d"
   ]
  },
  {
   "cell_type": "code",
   "execution_count": 18,
   "metadata": {},
   "outputs": [
    {
     "name": "stdout",
     "output_type": "stream",
     "text": [
      "[5, 1, 2, 3, 4]\n"
     ]
    }
   ],
   "source": [
    "d = 4\n",
    "a = [1, 2, 3, 4, 5]\n",
    "lst = []\n",
    "for i in range(d,len(a)):\n",
    "    lst.append(a[i])\n",
    "\n",
    "for j in range(d):\n",
    "    lst.append(a[j])\n",
    "\n",
    "print(lst)    \n",
    "        "
   ]
  },
  {
   "cell_type": "code",
   "execution_count": 23,
   "metadata": {},
   "outputs": [
    {
     "name": "stdout",
     "output_type": "stream",
     "text": [
      "[5, 1, 2, 3, 4]\n"
     ]
    }
   ],
   "source": [
    "# Same as above but much clean solution without loop\n",
    "\n",
    "n = 5\n",
    "d = 4\n",
    "a = [1, 2, 3, 4, 5]\n",
    "lst = a[d:n]+a[:d]\n",
    "print(lst)"
   ]
  },
  {
   "cell_type": "markdown",
   "metadata": {},
   "source": [
    "### Given a string s and an integer array indices of the same length.\n",
    "\n",
    "The string s will be shuffled such that the character at the ith position moves to indices[i] in the shuffled string."
   ]
  },
  {
   "cell_type": "code",
   "execution_count": 24,
   "metadata": {},
   "outputs": [
    {
     "name": "stdout",
     "output_type": "stream",
     "text": [
      "leetcode\n"
     ]
    }
   ],
   "source": [
    "s = 'codeleet'\n",
    "indices = [4,5,6,7,0,2,1,3]\n",
    "ans = [''] * len(s)   # create numbers of '' elements as per lengh of the string\n",
    "\n",
    "for i in range(len(indices)):\n",
    "    ans[indices[i]] = s[i]  # indices element eg> 4 becomes index of ans[4] where the element s[i] = 'c' is added\n",
    "   \n",
    "print(''.join(ans))\n",
    "\n",
    "\n",
    "    "
   ]
  },
  {
   "cell_type": "markdown",
   "metadata": {},
   "source": [
    "## Common array elements from 2 arrays"
   ]
  },
  {
   "cell_type": "code",
   "execution_count": 25,
   "metadata": {},
   "outputs": [
    {
     "name": "stdout",
     "output_type": "stream",
     "text": [
      "{1, 2, 5}\n",
      "{1, 5}\n",
      "[1, 5]\n"
     ]
    }
   ],
   "source": [
    "arr1 = [1,2,3,4,5]\n",
    "arr2 = [1,2,5,7,9]\n",
    "arr3 = [1,3,4,5,8]\n",
    "\n",
    "set1 = set(arr1)\n",
    "set2 = set(arr2)\n",
    "set3 = set(arr3)\n",
    "\n",
    "chk1 = set1 & set2\n",
    "chk2 = chk1 & set3\n",
    "\n",
    "print(chk1)\n",
    "print(chk2)\n",
    "\n",
    "t = []\n",
    "for i in chk2:\n",
    "    t.append(i)\n",
    "t.sort()\n",
    "\n",
    "print(t) "
   ]
  },
  {
   "cell_type": "markdown",
   "metadata": {},
   "source": [
    "# Remove Vowels"
   ]
  },
  {
   "cell_type": "code",
   "execution_count": null,
   "metadata": {},
   "outputs": [],
   "source": [
    "def removeVowels(S):\n",
    "        v = ('a','e','i','o','u')\n",
    "        \n",
    "        for x in S.lower():\n",
    "            if x in v:\n",
    "                S = S.replace(x,\"\")\n",
    "        print(S)        \n",
    "\n",
    "S =\"'WWWaeiou\"\n",
    "s1 = removeVowels(S)"
   ]
  },
  {
   "cell_type": "code",
   "execution_count": null,
   "metadata": {},
   "outputs": [],
   "source": [
    "class Solution:\n",
    "\tdef removeVowels(self, S: str) -> str:\n",
    "\t\tvowels=['a','e','i','o','u']\n",
    "\t\treturn ''.join([i for i in S if i not in vowels])\n",
    "\n",
    "ret = Solution().removeVowels('leetcodeisacommunityforcoders')\n",
    "print(ret)"
   ]
  },
  {
   "cell_type": "markdown",
   "metadata": {},
   "source": [
    "# Basic calculator with + and - and can have ()"
   ]
  },
  {
   "cell_type": "code",
   "execution_count": 25,
   "metadata": {},
   "outputs": [
    {
     "name": "stdout",
     "output_type": "stream",
     "text": [
      "6\n"
     ]
    }
   ],
   "source": [
    "s = \"(2*2)+3-1\"  # 3,-,),22,+,1,(\n",
    "n = 0\n",
    "operand = 0\n",
    "stack = []\n",
    "result = 0\n",
    "\n",
    "def eval_exp(stack):\n",
    "    res = stack.pop() if stack else 0\n",
    "    sign = ''\n",
    "    while stack and stack[-1] != ')':\n",
    "        sign = stack.pop()\n",
    "        if sign == '+':\n",
    "            res += stack.pop()\n",
    "        elif sign == '-':\n",
    "            res -= stack.pop()\n",
    "        elif sign == '*':\n",
    "            res *= stack.pop()\n",
    "        \n",
    "    return(res)\n",
    "\n",
    "for i in reversed(range(len(s))):\n",
    "    ch = s[i]\n",
    "    if ch.isdigit():\n",
    "        operand = operand + (10**n * int(ch))\n",
    "        n += 1 \n",
    "    elif ch != \" \":\n",
    "        if n:\n",
    "            stack.append(operand)\n",
    "            n,operand = 0, 0\n",
    "            \n",
    "        if ch == '(':\n",
    "            e = eval_exp(stack)\n",
    "            stack.pop()\n",
    "            stack.append(e)\n",
    "        \n",
    "        else:\n",
    "            stack.append(ch)\n",
    "\n",
    "if n:\n",
    "    stack.append(operand)\n",
    "    \n",
    "result = eval_exp(stack)\n",
    "    \n",
    "print(result)\n"
   ]
  },
  {
   "cell_type": "markdown",
   "metadata": {},
   "source": [
    "# Find longest pallindrome string from the given string\n",
    "This Solution below is called brute force and gives time exeeded error in leetcode but it is perfectly fine and working solution"
   ]
  },
  {
   "cell_type": "code",
   "execution_count": 30,
   "metadata": {},
   "outputs": [
    {
     "name": "stdout",
     "output_type": "stream",
     "text": [
      "vwwv\n"
     ]
    }
   ],
   "source": [
    "s = \"qbmhukucteihghldwdobtvgwwnhflpceiwhbkmvxavmqxedfndegztlpjptpdowwavemasyrjxxnhldnloyizyxgqlhejsdylvkpdzllrzoywfkcamhljminikvwwvqlerdilrdgzifojjlgeayprejhaequyhcohoeonagsmfrqhfzllobwjhxdxzadwxiglvzwiqyzlnamqqsastxlojpcsleohgtcuzzrvwzqugyimaqtorkafyebrgmrfmczwiexdzcokbqymnzigifbqzvfzjcjuugdmvegnvkgbmdowpacyspszvgdapklrhlhcmwkwwqatfswmxyfnxkepdotnvwndjrcclvewomyniaefhhcqkefkyovqxyswqpnysafnydbiuanqphfhfbfovxuezlovokrsocdqrqfzbqhntjafzfjisexcdlnjbhwrvnyabjbshqsxnaxhvtmqlfgdumtpeqzyuvmbkvmmdtywquydontkugdayjqewcgtyajofmbpdmykqobcxgqivmpzmhhcqiyleqitojrrsknhwepoxawpsxcbtsvagybnghqnlpcxlnshihcjdjxxjjwyplnemojhodksckmqdvnzewhzzuswzctnlyvyttuhlreynuternbqonlsfuchxtsyhqlvifcxerzqepthwqrsftaquzuxwcmjjulvjrkatlfqshpyjsbaqwawgpabkkjrtchqmriykbdsxwnkpaktrvmxjtfhwpzmieuqevlodtroiulzgbocrtiuvpywtcxvajkpfmaqckgrcmofkxynjxgvxqvkmhdbvumdaprijkjxxvpqnxakiavuwnifvyfolwlekptxbnctjijppickuqhguvtoqfgepcufbiysfljgmfepwyaxusvnsratn\"\n",
    "s1 = ''\n",
    "lst = []\n",
    "ret = []\n",
    "if (len(s) == 1):\n",
    "    print(s[0])\n",
    "elif (len(s) == 2 and s != s [::-1]):  \n",
    "    print(s[0])\n",
    "elif (len(s)>1):\n",
    "    for i in range(len(s)):\n",
    "        s1 = ''\n",
    "        for j in range(i,len(s)):\n",
    "            s1 = s1+s[j]\n",
    "            if(s1 == s1 [::-1] and len(s1)>1):\n",
    "                lst.append(s1)\n",
    "    if lst:\n",
    "        ret = max(lst, key = len)         \n",
    "    else:\n",
    "        ret = s[0]            \n",
    "    print(ret)\n"
   ]
  },
  {
   "cell_type": "code",
   "execution_count": 32,
   "metadata": {},
   "outputs": [
    {
     "name": "stdout",
     "output_type": "stream",
     "text": [
      "vwwv\n"
     ]
    }
   ],
   "source": [
    "# below solution is working and optimum than above solution\n",
    "\n",
    "s = \"qbmhukucteihghldwdobtvgwwnhflpceiwhbkmvxavmqxedfndegztlpjptpdowwavemasyrjxxnhldnloyizyxgqlhejsdylvkpdzllrzoywfkcamhljminikvwwvqlerdilrdgzifojjlgeayprejhaequyhcohoeonagsmfrqhfzllobwjhxdxzadwxiglvzwiqyzlnamqqsastxlojpcsleohgtcuzzrvwzqugyimaqtorkafyebrgmrfmczwiexdzcokbqymnzigifbqzvfzjcjuugdmvegnvkgbmdowpacyspszvgdapklrhlhcmwkwwqatfswmxyfnxkepdotnvwndjrcclvewomyniaefhhcqkefkyovqxyswqpnysafnydbiuanqphfhfbfovxuezlovokrsocdqrqfzbqhntjafzfjisexcdlnjbhwrvnyabjbshqsxnaxhvtmqlfgdumtpeqzyuvmbkvmmdtywquydontkugdayjqewcgtyajofmbpdmykqobcxgqivmpzmhhcqiyleqitojrrsknhwepoxawpsxcbtsvagybnghqnlpcxlnshihcjdjxxjjwyplnemojhodksckmqdvnzewhzzuswzctnlyvyttuhlreynuternbqonlsfuchxtsyhqlvifcxerzqepthwqrsftaquzuxwcmjjulvjrkatlfqshpyjsbaqwawgpabkkjrtchqmriykbdsxwnkpaktrvmxjtfhwpzmieuqevlodtroiulzgbocrtiuvpywtcxvajkpfmaqckgrcmofkxynjxgvxqvkmhdbvumdaprijkjxxvpqnxakiavuwnifvyfolwlekptxbnctjijppickuqhguvtoqfgepcufbiysfljgmfepwyaxusvnsratn\"\n",
    "m = ''  # Memory to remember a palindrome\n",
    "for i in range(len(s)):  # i = start, O = n\n",
    "    for j in range(len(s), i, -1):  # j = end, O = n^2\n",
    "        if len(m) >= j-i:  # To reduce time\n",
    "            break\n",
    "        elif s[i:j] == s[i:j][::-1]:\n",
    "            m = s[i:j]\n",
    "            break\n",
    "print(m)"
   ]
  },
  {
   "cell_type": "markdown",
   "metadata": {},
   "source": [
    "# How to define class and constructs"
   ]
  },
  {
   "cell_type": "code",
   "execution_count": 36,
   "metadata": {},
   "outputs": [
    {
     "name": "stdout",
     "output_type": "stream",
     "text": [
      "3\n",
      "Dipak Patil\n"
     ]
    }
   ],
   "source": [
    "class abc:\n",
    "    def __init__(self,s1,s2):\n",
    "        self.s1 = s1\n",
    "        self.s2 = s2\n",
    "class mno:        \n",
    "    def addition(n1: abc, n2: abc):\n",
    "        return(n1+n2)\n",
    "    \n",
    "print(mno.addition(1,2))\n",
    "\n",
    "print(mno.addition('Dipak ','Patil'))"
   ]
  },
  {
   "cell_type": "markdown",
   "metadata": {},
   "source": [
    "# How to define linked list and class"
   ]
  },
  {
   "cell_type": "code",
   "execution_count": 4,
   "metadata": {},
   "outputs": [],
   "source": [
    "class LinkedList:\n",
    "    def __init__(self, val = None, next = None ):\n",
    "        self.val = val\n",
    "        self.next = next\n",
    "\n",
    "node = LinkedList()\n",
    "head = node\n"
   ]
  },
  {
   "cell_type": "code",
   "execution_count": 5,
   "metadata": {},
   "outputs": [
    {
     "name": "stdout",
     "output_type": "stream",
     "text": [
      "None\n",
      "1\n",
      "2\n",
      "3\n",
      "4\n",
      "5\n"
     ]
    }
   ],
   "source": [
    "arr = [1,2,3,4,5]\n",
    "\n",
    "for i in arr:\n",
    "    tmp = LinkedList(i)\n",
    "    node.next = tmp\n",
    "    node = node.next\n",
    "    \n",
    "while head:\n",
    "    print(head.val)\n",
    "    head = head.next\n"
   ]
  },
  {
   "cell_type": "markdown",
   "metadata": {},
   "source": [
    "# sum of two numbers passed as list nodes and return the reverse of the answer\n",
    "You are given two non-empty linked lists representing two non-negative integers. The digits are stored in reverse order, and each of their nodes contains a single digit. Add the two numbers and return the sum as a linked list.\n",
    "\n",
    "You may assume the two numbers do not contain any leading zero, except the number 0 itself."
   ]
  },
  {
   "cell_type": "code",
   "execution_count": 108,
   "metadata": {},
   "outputs": [],
   "source": [
    "# Definition for singly-linked list.\n",
    "class ListNode:\n",
    "    def __init__(self, val=0, next=None):\n",
    "        self.val = val\n",
    "        self.next = next\n",
    "class Solution:\n",
    "    def revStr(l: ListNode):\n",
    "        n = ''\n",
    "        while l is not None:\n",
    "            n = n + str(l.val)\n",
    "            l = l.next\n",
    "        return(int(n[::-1]))\n",
    "\n",
    "    def addTwoNumbers(self, l1: ListNode, l2: ListNode) -> ListNode:\n",
    "        suml = Solution.revStr(l1) + Solution.revStr(l2)\n",
    "        node = ListNode()\n",
    "        head = node\n",
    "        for x in str(suml)[::-1]:\n",
    "            tmp = ListNode(x)\n",
    "            node.next = tmp\n",
    "            node = node.next\n",
    "        head = head.next\n",
    "        return head"
   ]
  },
  {
   "cell_type": "markdown",
   "metadata": {},
   "source": [
    "# Counting of domains problem"
   ]
  },
  {
   "cell_type": "code",
   "execution_count": 110,
   "metadata": {},
   "outputs": [
    {
     "name": "stdout",
     "output_type": "stream",
     "text": [
      "['951 com', '901 mailcom', '900 googlemailcom', '50 yahoocom', '1 intelmailcom', '5 org', '5 wikiorg']\n"
     ]
    }
   ],
   "source": [
    "cpdomains = [\"900 google.mail.com\", \"50 yahoo.com\", \"1 intel.mail.com\", \"5 wiki.org\"]\n",
    "_dict = {}\n",
    "retList = []\n",
    "for item in cpdomains:\n",
    "    vals = str(item).split(\" \")\n",
    "    count = int(vals[0])\n",
    "    \n",
    "    domains = \"\"\n",
    "    for subDomain in str(vals[1]).split(\".\")[::-1]:\n",
    "        domains = subDomain + domains\n",
    "        if _dict.get(domains):\n",
    "            _dict[domains] += count\n",
    "        else:\n",
    "            _dict[domains] = count\n",
    "\n",
    "domains = \".\" + domains\n",
    "for item in _dict.items():\n",
    "    retList.append(\"%s %s\"%(item[1], item[0]))\n",
    "    \n",
    "print(retList)"
   ]
  },
  {
   "cell_type": "markdown",
   "metadata": {},
   "source": [
    "# Reverse the integer"
   ]
  },
  {
   "cell_type": "code",
   "execution_count": 111,
   "metadata": {},
   "outputs": [
    {
     "name": "stdout",
     "output_type": "stream",
     "text": [
      "4321\n"
     ]
    }
   ],
   "source": [
    "import math\n",
    "d = 1234\n",
    "l = int(math.log10(d)+1)\n",
    "n = 0\n",
    "dec = 0\n",
    "\n",
    "while d > 0:\n",
    "    n = d % 10  # 4000\n",
    "    d = d // 10  # 123\n",
    "    dec = n + dec*10\n",
    "\n",
    "print(int(dec))\n"
   ]
  },
  {
   "cell_type": "markdown",
   "metadata": {},
   "source": [
    "# Put the digits of number in list"
   ]
  },
  {
   "cell_type": "code",
   "execution_count": 112,
   "metadata": {},
   "outputs": [
    {
     "name": "stdout",
     "output_type": "stream",
     "text": [
      "[1, 2, 3]\n",
      "[3, 2, 1]\n"
     ]
    }
   ],
   "source": [
    "import math\n",
    "x = 123\n",
    "digits = int(math.log10(x)) + 1\n",
    "place = 10**(digits - 1)\n",
    "returnVal = 0\n",
    "lst = []\n",
    "lst2 = []\n",
    "while x > 0:\n",
    "    lst.append(x % 10)\n",
    "    x = x // 10\n",
    "\n",
    "lst2 = lst[::-1]\n",
    "\n",
    "print(lst2)  \n"
   ]
  },
  {
   "cell_type": "code",
   "execution_count": 113,
   "metadata": {},
   "outputs": [
    {
     "name": "stdout",
     "output_type": "stream",
     "text": [
      "[1, 2, 3]\n"
     ]
    }
   ],
   "source": [
    "# Return Digits in the list\n",
    "\n",
    "x = 123\n",
    "lst = []\n",
    "\n",
    "while x > 0:\n",
    "    a = x % 10\n",
    "    x = x // 10\n",
    "    lst.append(a)\n",
    "\n",
    "print(lst[::-1])"
   ]
  },
  {
   "cell_type": "markdown",
   "metadata": {},
   "source": [
    "# Counting of pair of socks Problem"
   ]
  },
  {
   "cell_type": "code",
   "execution_count": null,
   "metadata": {},
   "outputs": [],
   "source": [
    "ar = [10,20,20,10,10,30,20,50,10,20]\n",
    "l = 0\n",
    "for i in set(ar):\n",
    "    j = ar.count(i)\n",
    "    k = j // 2\n",
    "    l = l + k\n",
    "print(l)    "
   ]
  },
  {
   "cell_type": "markdown",
   "metadata": {},
   "source": [
    "# Return length of longest substring"
   ]
  },
  {
   "cell_type": "code",
   "execution_count": 117,
   "metadata": {},
   "outputs": [
    {
     "name": "stdout",
     "output_type": "stream",
     "text": [
      "9\n"
     ]
    }
   ],
   "source": [
    "s = 'abcdabcdefghiab'\n",
    "occur = {}\n",
    "i = 0\n",
    "ans = 0\n",
    "\n",
    "for j in range(len(s)):\n",
    "    if s[j] in occur:\n",
    "        i = occur[s[j]]\n",
    "        ans = max(ans, j-i)          \n",
    "    occur[s[j]] = j    \n",
    "    \n",
    "print(ans)"
   ]
  },
  {
   "cell_type": "markdown",
   "metadata": {},
   "source": [
    "# Trapping rain water problem - Leet Code"
   ]
  },
  {
   "cell_type": "code",
   "execution_count": null,
   "metadata": {},
   "outputs": [],
   "source": [
    "arr1 = [1,0,3,2,4,1]\n",
    "ltr = [0]*len(arr1)\n",
    "rtl = [0]*len(arr1)\n",
    "totalWater = 0\n",
    "\n",
    "ltr[0] = arr1[0]\n",
    "\n",
    "for i in range(1,len(arr1)):\n",
    "    ltr[i] = max(ltr[i-1], arr1[i])\n",
    "\n",
    "rtl[len(arr1)-1] = arr1[len(arr1)-1]\n",
    "\n",
    "for j in reversed(range(len(arr1)-1)):\n",
    "    rtl[j] = max(rtl[j+1], arr1[j])\n",
    "\n",
    "for k in range(len(arr1)):\n",
    "    totalWater += min(ltr[k],rtl[k])-arr1[k]\n",
    "    \n",
    "print(totalWater)"
   ]
  },
  {
   "cell_type": "markdown",
   "metadata": {},
   "source": [
    "# Return the \"centered\" average of an array of ints, which we'll say\n",
    "is\n",
    "the mean average of the values, except ignoring the largest and\n",
    "smallest values in the array. If there are multiple copies of the\n",
    "smallest value, ignore just one copy, and likewise for the largest\n",
    "value. Use int division to produce the final average. You may\n",
    "assume\n",
    "that the array is length 3 or more."
   ]
  },
  {
   "cell_type": "code",
   "execution_count": null,
   "metadata": {},
   "outputs": [],
   "source": [
    "arr = [-10, -4, -2, -4, -2, 0]\n",
    "arr.remove(min(arr))\n",
    "arr.remove(max(arr))\n",
    "\n",
    "s = 0\n",
    "\n",
    "for i in arr:\n",
    "    s = s + i\n",
    "\n",
    "print(s//len(arr))"
   ]
  },
  {
   "cell_type": "markdown",
   "metadata": {},
   "source": [
    "# Given a string, determine if it is a palindrome, considering only alphanumeric characters and ignoring cases. LeetCode - FB\n",
    "\n",
    "Note: For the purpose of this problem, we define empty string as valid palindrome."
   ]
  },
  {
   "cell_type": "code",
   "execution_count": 1,
   "metadata": {},
   "outputs": [
    {
     "name": "stdout",
     "output_type": "stream",
     "text": [
      "True\n"
     ]
    }
   ],
   "source": [
    "import re\n",
    "s = \"A man, a Plan, a canal: Panama\" \n",
    "extracted = re.sub(\"[^A-Za-z0-9]+\", '', s.lower())\n",
    "\n",
    "print(extracted == extracted[::-1])"
   ]
  },
  {
   "cell_type": "markdown",
   "metadata": {},
   "source": [
    "# Find path number of paths to reach nxm grid"
   ]
  },
  {
   "cell_type": "code",
   "execution_count": 26,
   "metadata": {},
   "outputs": [
    {
     "data": {
      "text/plain": [
       "2"
      ]
     },
     "execution_count": 26,
     "metadata": {},
     "output_type": "execute_result"
    }
   ],
   "source": [
    "def myPath(n,m):\n",
    "    if n == 1 or m == 1:\n",
    "        return 1\n",
    "    else:\n",
    "        return myPath(n, m-1) + myPath(n-1, m)\n",
    "\n",
    "res = myPath(2,2)\n",
    "res\n",
    "    "
   ]
  }
 ],
 "metadata": {
  "kernelspec": {
   "display_name": "Python 3",
   "language": "python",
   "name": "python3"
  },
  "language_info": {
   "codemirror_mode": {
    "name": "ipython",
    "version": 3
   },
   "file_extension": ".py",
   "mimetype": "text/x-python",
   "name": "python",
   "nbconvert_exporter": "python",
   "pygments_lexer": "ipython3",
   "version": "3.8.3"
  }
 },
 "nbformat": 4,
 "nbformat_minor": 4
}
